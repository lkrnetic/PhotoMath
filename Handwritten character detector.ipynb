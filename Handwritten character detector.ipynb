{
 "cells": [
  {
   "cell_type": "markdown",
   "metadata": {},
   "source": [
    "# Handwritten character detector"
   ]
  },
  {
   "cell_type": "code",
   "execution_count": 1,
   "metadata": {},
   "outputs": [],
   "source": [
    "import numpy as np\n",
    "import cv2\n",
    "from imutils import contours"
   ]
  },
  {
   "cell_type": "code",
   "execution_count": 2,
   "metadata": {},
   "outputs": [
    {
     "name": "stdout",
     "output_type": "stream",
     "text": [
      "Using matplotlib backend: Qt5Agg\n"
     ]
    }
   ],
   "source": [
    "%matplotlib auto"
   ]
  },
  {
   "cell_type": "code",
   "execution_count": 3,
   "metadata": {},
   "outputs": [],
   "source": [
    "path = \"C:/Users/Luka/PhotoMath/pictures/slika3.jpg\""
   ]
  },
  {
   "cell_type": "code",
   "execution_count": 4,
   "metadata": {},
   "outputs": [],
   "source": [
    "image = cv2.imread(path)\n",
    "imageCopy = image.copy()"
   ]
  },
  {
   "cell_type": "code",
   "execution_count": 5,
   "metadata": {},
   "outputs": [],
   "source": [
    "cv2.imshow(\"Image\",image)\n",
    "cv2.waitKey(0)\n",
    "cv2.destroyAllWindows()"
   ]
  },
  {
   "cell_type": "code",
   "execution_count": 6,
   "metadata": {},
   "outputs": [],
   "source": [
    "gray = cv2.cvtColor(image, cv2.COLOR_BGR2GRAY)\n",
    "blurred = cv2.GaussianBlur(gray, (3,3), 0)\n",
    "canny = cv2.Canny(blurred, 120, 255, 1)\n",
    "charachters_files = []\n",
    "charachters_files_bw = []"
   ]
  },
  {
   "cell_type": "code",
   "execution_count": 7,
   "metadata": {},
   "outputs": [],
   "source": [
    "# Find contours\n",
    "contour_list = []\n",
    "detected_character_counter = 0\n",
    "cnts = cv2.findContours(canny, cv2.RETR_EXTERNAL, cv2.CHAIN_APPROX_SIMPLE)\n",
    "cnts = cnts[0] if len(cnts) == 2 else cnts[1]\n",
    "cnts, _ = contours.sort_contours(cnts, method=\"left-to-right\")"
   ]
  },
  {
   "cell_type": "code",
   "execution_count": 8,
   "metadata": {},
   "outputs": [
    {
     "name": "stdout",
     "output_type": "stream",
     "text": [
      "Coordinates of bounding box are: X:20 Y:27 W:39 H:78\n",
      "Coordinates of bounding box are: X:71 Y:71 W:38 H:5\n",
      "Coordinates of bounding box are: X:124 Y:46 W:52 H:61\n",
      "Coordinates of bounding box are: X:184 Y:67 W:34 H:27\n",
      "Coordinates of bounding box are: X:232 Y:54 W:44 H:62\n",
      "Coordinates of bounding box are: X:295 Y:73 W:35 H:32\n",
      "Coordinates of bounding box are: X:333 Y:61 W:50 H:48\n"
     ]
    },
    {
     "data": {
      "text/plain": [
       "-1"
      ]
     },
     "execution_count": 8,
     "metadata": {},
     "output_type": "execute_result"
    }
   ],
   "source": [
    "detected_character_counter = 0\n",
    "for index, contour in enumerate(cnts):\n",
    "    # Obtain bounding rectangle for each contour\n",
    "    x,y,w,h = cv2.boundingRect(contour)\n",
    "    if h * w > 170:\n",
    "        # When current rectangle is nested in rectangle before\n",
    "        if index != 0:\n",
    "            x2, y2, w2, h2 = cv2.boundingRect(cnts[index-1])\n",
    "            difference_x = abs(x - x2)\n",
    "            if difference_x < 5 and w2 > w:\n",
    "                continue \n",
    "        # When current rectangle is nested next rectangle \n",
    "        if  index != len(cnts) - 1:\n",
    "            x2, y2, w2, h2 = cv2.boundingRect(cnts[index+1])\n",
    "            difference_x = (x2 - x)\n",
    "            #print(\"difference_x \" + str(difference_x))\n",
    "            #print(\"w \" + str(w))\n",
    "            #print(\"w2 \" + str(w2))\n",
    "            if difference_x < 5 and w2 > w:\n",
    "                continue \n",
    "        print(\"Coordinates of bounding box are: X:\" + str(x) + \" Y:\" + str(y) + \" W:\" + str(w) + \" H:\" + str(h))\n",
    "        cropped_image = image[y:y+h, x:x+w]\n",
    "        cv2.imshow(\"image\", cropped_image)\n",
    "        cv2.waitKey()\n",
    "        cropped_image_copy = imageCopy[y:y+h, x:x+w]\n",
    "        # Draw bounding box rectangle, crop using Numpy slicing\n",
    "        cv2.rectangle(image,(x,y),(x+w,y+h),(0,255,0),3)\n",
    "        cv2.imwrite('pictures/character_{}.png'.format(detected_character_counter), cropped_image_copy)\n",
    "cv2.imshow(\"image\", image) \n",
    "cv2.waitKey()"
   ]
  },
  {
   "cell_type": "code",
   "execution_count": null,
   "metadata": {},
   "outputs": [],
   "source": []
  },
  {
   "cell_type": "code",
   "execution_count": null,
   "metadata": {},
   "outputs": [],
   "source": []
  },
  {
   "cell_type": "code",
   "execution_count": null,
   "metadata": {},
   "outputs": [],
   "source": []
  },
  {
   "cell_type": "code",
   "execution_count": null,
   "metadata": {},
   "outputs": [],
   "source": []
  },
  {
   "cell_type": "code",
   "execution_count": null,
   "metadata": {},
   "outputs": [],
   "source": []
  }
 ],
 "metadata": {
  "kernelspec": {
   "display_name": "Python 3",
   "language": "python",
   "name": "python3"
  },
  "language_info": {
   "codemirror_mode": {
    "name": "ipython",
    "version": 3
   },
   "file_extension": ".py",
   "mimetype": "text/x-python",
   "name": "python",
   "nbconvert_exporter": "python",
   "pygments_lexer": "ipython3",
   "version": "3.7.1"
  }
 },
 "nbformat": 4,
 "nbformat_minor": 2
}
