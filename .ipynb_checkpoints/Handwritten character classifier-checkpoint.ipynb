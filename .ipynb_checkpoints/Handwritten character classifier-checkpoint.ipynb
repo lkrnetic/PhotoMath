{
 "cells": [
  {
   "cell_type": "markdown",
   "metadata": {},
   "source": [
    "# Handwritten character classifier"
   ]
  },
  {
   "cell_type": "code",
   "execution_count": 1,
   "metadata": {},
   "outputs": [
    {
     "name": "stdout",
     "output_type": "stream",
     "text": [
      "2.3.1\n"
     ]
    },
    {
     "name": "stderr",
     "output_type": "stream",
     "text": [
      "Using TensorFlow backend.\n"
     ]
    }
   ],
   "source": [
    "import tensorflow as tf\n",
    "from tensorflow import keras\n",
    "print(tf.version.VERSION)\n",
    "import numpy as np\n",
    "import cv2\n",
    "from imutils import contours\n",
    "from keras.preprocessing.image import ImageDataGenerator\n",
    "from tensorflow.keras.optimizers import RMSprop,Adam\n",
    "from tensorflow.keras.callbacks import TensorBoard, EarlyStopping, LearningRateScheduler, ModelCheckpoint, CSVLogger, ReduceLROnPlateau"
   ]
  },
  {
   "cell_type": "code",
   "execution_count": 2,
   "metadata": {},
   "outputs": [],
   "source": [
    "train_datagen = ImageDataGenerator(\n",
    "    rescale = 1./255,\n",
    "    zoom_range = 0.1,\n",
    "    width_shift_range=0.1,\n",
    "    height_shift_range=0.1,\n",
    "    validation_split = 0.30\n",
    ")"
   ]
  },
  {
   "cell_type": "code",
   "execution_count": 3,
   "metadata": {},
   "outputs": [],
   "source": [
    "data_path='C:/Users/Luka/PhotoMath/dataset_digits_operators'"
   ]
  },
  {
   "cell_type": "code",
   "execution_count": 13,
   "metadata": {},
   "outputs": [
    {
     "name": "stdout",
     "output_type": "stream",
     "text": [
      "Found 233733 images belonging to 16 classes.\n"
     ]
    }
   ],
   "source": [
    "training_generator = train_datagen.flow_from_directory(\n",
    "    data_path, \n",
    "    target_size = (160, 160),\n",
    "    color_mode = 'grayscale',\n",
    "    batch_size = 32,\n",
    "    class_mode = 'categorical',\n",
    "    shuffle = True,\n",
    "    subset='training',\n",
    ")"
   ]
  },
  {
   "cell_type": "code",
   "execution_count": 5,
   "metadata": {},
   "outputs": [
    {
     "data": {
      "text/plain": [
       "{'%': 0,\n",
       " '+': 1,\n",
       " '-': 2,\n",
       " '0': 3,\n",
       " '1': 4,\n",
       " '2': 5,\n",
       " '3': 6,\n",
       " '4': 7,\n",
       " '5': 8,\n",
       " '6': 9,\n",
       " '7': 10,\n",
       " '8': 11,\n",
       " '9': 12,\n",
       " '[': 13,\n",
       " ']': 14,\n",
       " '_': 15}"
      ]
     },
     "execution_count": 5,
     "metadata": {},
     "output_type": "execute_result"
    }
   ],
   "source": [
    "training_generator.class_indices"
   ]
  },
  {
   "cell_type": "code",
   "execution_count": 14,
   "metadata": {},
   "outputs": [
    {
     "name": "stdout",
     "output_type": "stream",
     "text": [
      "Found 100162 images belonging to 16 classes.\n"
     ]
    }
   ],
   "source": [
    "validation_generator = train_datagen.flow_from_directory(\n",
    "    data_path, \n",
    "    target_size = (160, 160),\n",
    "    color_mode = 'grayscale',\n",
    "    batch_size = 32,\n",
    "    class_mode = 'categorical',\n",
    "    shuffle = True,\n",
    "    subset='validation',\n",
    ")"
   ]
  },
  {
   "cell_type": "code",
   "execution_count": 7,
   "metadata": {},
   "outputs": [
    {
     "data": {
      "text/plain": [
       "{'%': 0,\n",
       " '+': 1,\n",
       " '-': 2,\n",
       " '0': 3,\n",
       " '1': 4,\n",
       " '2': 5,\n",
       " '3': 6,\n",
       " '4': 7,\n",
       " '5': 8,\n",
       " '6': 9,\n",
       " '7': 10,\n",
       " '8': 11,\n",
       " '9': 12,\n",
       " '[': 13,\n",
       " ']': 14,\n",
       " '_': 15}"
      ]
     },
     "execution_count": 7,
     "metadata": {},
     "output_type": "execute_result"
    }
   ],
   "source": [
    "validation_generator.class_indices"
   ]
  },
  {
   "cell_type": "code",
   "execution_count": 8,
   "metadata": {},
   "outputs": [],
   "source": [
    "classes = ['%', '+', '-', '0', '1', '2', '3', '4', '5', '6', '7', '8', '9', '[', ']', '_']"
   ]
  },
  {
   "cell_type": "code",
   "execution_count": 9,
   "metadata": {},
   "outputs": [],
   "source": [
    "model=tf.keras.models.Sequential([\n",
    "    tf.keras.layers.Conv2D(16, (3,3), activation='relu',padding='same', input_shape=(160, 160, 1)),\n",
    "    tf.keras.layers.MaxPooling2D(2, 2),\n",
    "    tf.keras.layers.BatchNormalization(),\n",
    "    tf.keras.layers.Conv2D(32, (3,3), activation='relu',padding='same'),\n",
    "    tf.keras.layers.MaxPooling2D(2,2),\n",
    "    tf.keras.layers.BatchNormalization(),\n",
    "    tf.keras.layers.Conv2D(64, (3,3), activation='relu',padding='same'),\n",
    "    tf.keras.layers.MaxPooling2D(2,2),\n",
    "    tf.keras.layers.BatchNormalization(),\n",
    "    tf.keras.layers.Conv2D(128, (3,3), activation='relu',padding='same'),\n",
    "    tf.keras.layers.BatchNormalization(),\n",
    "    tf.keras.layers.Conv2D(256, (3,3), activation='relu',padding='same'),\n",
    "    tf.keras.layers.MaxPooling2D(2,2),\n",
    "    tf.keras.layers.Flatten(),\n",
    "    tf.keras.layers.Dense(512, activation='relu'),\n",
    "    tf.keras.layers.Dropout(0.3),\n",
    "    tf.keras.layers.Dense(256, activation='relu'),\n",
    "    tf.keras.layers.Dropout(0.3),\n",
    "    tf.keras.layers.Dense(16, activation='softmax')\n",
    "])"
   ]
  },
  {
   "cell_type": "code",
   "execution_count": 15,
   "metadata": {},
   "outputs": [],
   "source": [
    "model.compile(optimizer=Adam(lr=0.001),\n",
    "              loss='categorical_crossentropy',\n",
    "              metrics=['accuracy'])\n",
    "\n"
   ]
  },
  {
   "cell_type": "code",
   "execution_count": 16,
   "metadata": {},
   "outputs": [],
   "source": [
    "model_checkpoint = ModelCheckpoint('handwritten_character_classifier_model4.h5', monitor='val_accuracy', save_best_only=True, verbose=2)"
   ]
  },
  {
   "cell_type": "code",
   "execution_count": 17,
   "metadata": {},
   "outputs": [
    {
     "name": "stdout",
     "output_type": "stream",
     "text": [
      "Epoch 1/15\n",
      "\n",
      "Epoch 00001: val_accuracy improved from -inf to 0.59010, saving model to handwritten_character_classifier_model4.h5\n",
      "7305/7305 - 5569s - loss: 0.4573 - accuracy: 0.8685 - val_loss: 1.3339 - val_accuracy: 0.5901\n",
      "Epoch 2/15\n",
      "\n",
      "Epoch 00002: val_accuracy improved from 0.59010 to 0.92870, saving model to handwritten_character_classifier_model4.h5\n",
      "7305/7305 - 5441s - loss: 0.2103 - accuracy: 0.9377 - val_loss: 0.2415 - val_accuracy: 0.9287\n",
      "Epoch 3/15\n",
      "\n",
      "Epoch 00003: val_accuracy did not improve from 0.92870\n",
      "7305/7305 - 5390s - loss: 0.1763 - accuracy: 0.9476 - val_loss: 0.2629 - val_accuracy: 0.9260\n",
      "Epoch 4/15\n",
      "\n",
      "Epoch 00004: val_accuracy did not improve from 0.92870\n",
      "7305/7305 - 5178s - loss: 0.1558 - accuracy: 0.9530 - val_loss: 0.2784 - val_accuracy: 0.9237\n",
      "Epoch 5/15\n",
      "\n",
      "Epoch 00005: val_accuracy improved from 0.92870 to 0.93806, saving model to handwritten_character_classifier_model4.h5\n",
      "7305/7305 - 5188s - loss: 0.1442 - accuracy: 0.9564 - val_loss: 0.1980 - val_accuracy: 0.9381\n",
      "Epoch 6/15\n",
      "\n",
      "Epoch 00006: val_accuracy did not improve from 0.93806\n",
      "7305/7305 - 5169s - loss: 0.1354 - accuracy: 0.9588 - val_loss: 0.2112 - val_accuracy: 0.9368\n",
      "Epoch 7/15\n",
      "\n",
      "Epoch 00007: val_accuracy improved from 0.93806 to 0.94810, saving model to handwritten_character_classifier_model4.h5\n",
      "7305/7305 - 5185s - loss: 0.1272 - accuracy: 0.9614 - val_loss: 0.1873 - val_accuracy: 0.9481\n",
      "Epoch 8/15\n",
      "\n",
      "Epoch 00008: val_accuracy did not improve from 0.94810\n",
      "7305/7305 - 5240s - loss: 0.1256 - accuracy: 0.9617 - val_loss: 0.1940 - val_accuracy: 0.9435\n",
      "Epoch 9/15\n",
      "\n",
      "Epoch 00009: val_accuracy did not improve from 0.94810\n",
      "7305/7305 - 5254s - loss: 0.1197 - accuracy: 0.9637 - val_loss: 0.2209 - val_accuracy: 0.9420\n",
      "Epoch 10/15\n",
      "\n",
      "Epoch 00010: val_accuracy improved from 0.94810 to 0.94887, saving model to handwritten_character_classifier_model4.h5\n",
      "7305/7305 - 5445s - loss: 0.1163 - accuracy: 0.9646 - val_loss: 0.1726 - val_accuracy: 0.9489\n",
      "Epoch 11/15\n",
      "\n",
      "Epoch 00011: val_accuracy did not improve from 0.94887\n",
      "7305/7305 - 5689s - loss: 0.1149 - accuracy: 0.9649 - val_loss: 0.2099 - val_accuracy: 0.9437\n",
      "Epoch 12/15\n",
      "\n",
      "Epoch 00012: val_accuracy did not improve from 0.94887\n",
      "7305/7305 - 5718s - loss: 0.1111 - accuracy: 0.9656 - val_loss: 0.2119 - val_accuracy: 0.9383\n",
      "Epoch 13/15\n",
      "\n",
      "Epoch 00013: val_accuracy improved from 0.94887 to 0.95150, saving model to handwritten_character_classifier_model4.h5\n",
      "7305/7305 - 7228s - loss: 0.1126 - accuracy: 0.9654 - val_loss: 0.1696 - val_accuracy: 0.9515\n",
      "Epoch 14/15\n",
      "\n",
      "Epoch 00014: val_accuracy did not improve from 0.95150\n",
      "7305/7305 - 6246s - loss: 0.1123 - accuracy: 0.9663 - val_loss: 0.1838 - val_accuracy: 0.9493\n",
      "Epoch 15/15\n",
      "\n",
      "Epoch 00015: val_accuracy improved from 0.95150 to 0.95162, saving model to handwritten_character_classifier_model4.h5\n",
      "7305/7305 - 6268s - loss: 0.1108 - accuracy: 0.9671 - val_loss: 0.1847 - val_accuracy: 0.9516\n"
     ]
    }
   ],
   "source": [
    "history=model.fit(training_generator,validation_data=validation_generator,epochs=15,\n",
    "                  verbose=2, callbacks=[model_checkpoint])"
   ]
  },
  {
   "cell_type": "code",
   "execution_count": null,
   "metadata": {},
   "outputs": [],
   "source": []
  },
  {
   "cell_type": "code",
   "execution_count": null,
   "metadata": {},
   "outputs": [],
   "source": []
  }
 ],
 "metadata": {
  "kernelspec": {
   "display_name": "Python 3",
   "language": "python",
   "name": "python3"
  },
  "language_info": {
   "codemirror_mode": {
    "name": "ipython",
    "version": 3
   },
   "file_extension": ".py",
   "mimetype": "text/x-python",
   "name": "python",
   "nbconvert_exporter": "python",
   "pygments_lexer": "ipython3",
   "version": "3.7.1"
  }
 },
 "nbformat": 4,
 "nbformat_minor": 2
}
